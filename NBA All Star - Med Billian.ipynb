{
 "cells": [
  {
   "cell_type": "markdown",
   "metadata": {},
   "source": [
    "# NBA ALL STAR CLASSIFICATION"
   ]
  },
  {
   "cell_type": "code",
   "execution_count": 2,
   "metadata": {},
   "outputs": [],
   "source": [
    "from bs4 import BeautifulSoup, NavigableString\n",
    "from string import ascii_lowercase\n",
    "import pandas as pd\n",
    "import requests\n",
    "import time, os\n",
    "import re\n",
    "import numpy as np\n",
    "\n",
    "import seaborn as sns\n",
    "import matplotlib.pyplot as plt"
   ]
  },
  {
   "cell_type": "code",
   "execution_count": null,
   "metadata": {},
   "outputs": [],
   "source": [
    "# Scrape NBA players stats from 2000\n",
    "liPlayer = []\n",
    "\n",
    "for y in range(2000, 2022):\n",
    "    time.sleep(1)\n",
    "    playerStats = requests.get('https://www.basketball-reference.com/leagues/NBA_{}_per_game.html'.format(y)).text\n",
    "    soup = BeautifulSoup(playerStats, 'html5lib')    \n",
    "    for player in soup.findAll(class_='full_table'):\n",
    "        #print(player)\n",
    "        year = y\n",
    "        name = player.find('td',{'data-stat':'player'}).findNext('a').text\n",
    "        pos = player.find('td',{'data-stat':'pos'}).text\n",
    "        age = player.find('td',{'data-stat':'age'}).text\n",
    "        g = player.find('td',{'data-stat':'g'}).text\n",
    "        mp = player.find('td',{'data-stat':'mp_per_g'}).text\n",
    "        pts_per_g = player.find('td',{'data-stat':'pts_per_g'}).text\n",
    "        trb_per_g = player.find('td',{'data-stat':'trb_per_g'}).text\n",
    "        ast_per_g = player.find('td',{'data-stat':'ast_per_g'}).text\n",
    "        fg_per_g = player.find('td',{'data-stat':'fg_per_g'}).text\n",
    "        fg_pct = player.find('td',{'data-stat':'fg_pct'}).text\n",
    "        efg_pct = player.find('td',{'data-stat':'efg_pct'}).text\n",
    "        blk_per_g = player.find('td',{'data-stat':'blk_per_g'}).text\n",
    "        tov_per_g = player.find('td',{'data-stat':'tov_per_g'}).text\n",
    "        pf_per_g = player.find('td',{'data-stat':'pf_per_g'}).text\n",
    "        \n",
    "        gs = player.find('td',{'data-stat':'gs'}).text\n",
    "        fg3_per_g = player.find('td',{'data-stat':'fg3_per_g'}).text\n",
    "        fg2_per_g = player.find('td',{'data-stat':'fg2_per_g'}).text\n",
    "        stl_per_g = player.find('td',{'data-stat':'stl_per_g'}).text\n",
    "        ft_per_g = player.find('td',{'data-stat':'ft_per_g'}).text\n",
    "        tm = player.find('td',{'data-stat':'team_id'}).text\n",
    "        \n",
    "        d = {'name':name,'year':year,'pos':pos,'age':age,'g':g,'pts_per_g':pts_per_g,'trb_per_g':trb_per_g,'ast_per_g':ast_per_g,'fg_per_g':fg_per_g,'fg_pct':fg_pct,'efg_pct':efg_pct,'blk_per_g':blk_per_g,'tov_per_g':tov_per_g,'pf_per_g':pf_per_g,'mp':mp,'gs':gs,'fg3_per_g':fg3_per_g,'fg2_per_g':fg2_per_g,'stl_per_g':stl_per_g,'ft_per_g':ft_per_g,'tm':tm}\n",
    "        playerStat = pd.Series(data=d, index=['name','year','pos','age','g','pts_per_g','trb_per_g','ast_per_g','fg_per_g','fg_pct','efg_pct','blk_per_g','tov_per_g','pf_per_g','mp','gs','fg3_per_g','fg2_per_g','stl_per_g','ft_per_g','tm'])\n",
    "        liPlayer.append(playerStat)\n",
    "        \n",
    "dfPlayerStats = pd.DataFrame(liPlayer)\n",
    "dfPlayerStats.info()"
   ]
  },
  {
   "cell_type": "code",
   "execution_count": null,
   "metadata": {},
   "outputs": [],
   "source": [
    "dfPlayerStats.to_excel(\"nbastats_200x.xlsx\")"
   ]
  },
  {
   "cell_type": "code",
   "execution_count": null,
   "metadata": {},
   "outputs": [],
   "source": [
    "# Scrape Team SRS from 2000\n",
    "# Team Rating System\n",
    "liTeam = []\n",
    "\n",
    "for y in range(2000, 2022):\n",
    "    time.sleep(1)\n",
    "    playerStats = requests.get('https://www.basketball-reference.com/leagues/NBA_{}.html'.format(y)).text\n",
    "    soup = BeautifulSoup(playerStats, 'html5lib')    \n",
    "    for player in soup.findAll(class_='full_table'):\n",
    "        #print(player)\n",
    "        year = y\n",
    "        team = player.find('th',{'data-stat':'team_name'}).findNext('a').text\n",
    "        team_abbrv = player.find('th',{'data-stat':'team_name'}).findNext('a')['href'][7:10]\n",
    "        srs = player.find('td',{'data-stat':'srs'}).text\n",
    "        win_loss_pct = player.find('td',{'data-stat':'win_loss_pct'}).text\n",
    "        \n",
    "        d = {'team':team,'team_abbrv':team_abbrv,'year':year,'srs':srs,'win_loss_pct':win_loss_pct}\n",
    "        teamStat = pd.Series(data=d, index=['team','team_abbrv','year','srs','win_loss_pct'])\n",
    "        liTeam.append(teamStat)\n",
    "        \n",
    "dfTeamStats = pd.DataFrame(liTeam)\n",
    "dfTeamStats.info()\n",
    "dfTeamStats.to_excel(\"nbaTeamsStats_200x.xlsx\")"
   ]
  },
  {
   "cell_type": "markdown",
   "metadata": {},
   "source": [
    "# Data Cleaning"
   ]
  },
  {
   "cell_type": "code",
   "execution_count": 82,
   "metadata": {},
   "outputs": [
    {
     "name": "stdout",
     "output_type": "stream",
     "text": [
      "<class 'pandas.core.frame.DataFrame'>\n",
      "RangeIndex: 9282 entries, 0 to 9281\n",
      "Data columns (total 19 columns):\n",
      " #   Column           Non-Null Count  Dtype  \n",
      "---  ------           --------------  -----  \n",
      " 0   age              9282 non-null   int64  \n",
      " 1   g                9282 non-null   int64  \n",
      " 2   pts_per_g        9282 non-null   float64\n",
      " 3   trb_per_g        9282 non-null   float64\n",
      " 4   ast_per_g        9282 non-null   float64\n",
      " 5   fg_per_g         9282 non-null   float64\n",
      " 6   fg_pct           9282 non-null   float64\n",
      " 7   efg_pct          9282 non-null   float64\n",
      " 8   blk_per_g        9282 non-null   float64\n",
      " 9   tov_per_g        9282 non-null   float64\n",
      " 10  pf_per_g         9282 non-null   float64\n",
      " 11  mp               9282 non-null   float64\n",
      " 12  gs               9282 non-null   int64  \n",
      " 13  fg3_per_g        9282 non-null   float64\n",
      " 14  fg2_per_g        9282 non-null   float64\n",
      " 15  stl_per_g        9282 non-null   float64\n",
      " 16  ft_per_g         9282 non-null   float64\n",
      " 17  all_star_player  9282 non-null   int64  \n",
      " 18  tm_srs           9282 non-null   float64\n",
      "dtypes: float64(15), int64(4)\n",
      "memory usage: 1.3 MB\n",
      "Optimization terminated successfully.\n",
      "         Current function value: 0.069753\n",
      "         Iterations 12\n"
     ]
    },
    {
     "data": {
      "text/html": [
       "<table class=\"simpletable\">\n",
       "<caption>Logit Regression Results</caption>\n",
       "<tr>\n",
       "  <th>Dep. Variable:</th>    <td>all_star_player</td> <th>  No. Observations:  </th>  <td>  9282</td> \n",
       "</tr>\n",
       "<tr>\n",
       "  <th>Model:</th>                 <td>Logit</td>      <th>  Df Residuals:      </th>  <td>  9265</td> \n",
       "</tr>\n",
       "<tr>\n",
       "  <th>Method:</th>                 <td>MLE</td>       <th>  Df Model:          </th>  <td>    16</td> \n",
       "</tr>\n",
       "<tr>\n",
       "  <th>Date:</th>            <td>Tue, 14 Dec 2021</td> <th>  Pseudo R-squ.:     </th>  <td>0.6573</td> \n",
       "</tr>\n",
       "<tr>\n",
       "  <th>Time:</th>                <td>17:53:48</td>     <th>  Log-Likelihood:    </th> <td> -647.45</td>\n",
       "</tr>\n",
       "<tr>\n",
       "  <th>converged:</th>             <td>True</td>       <th>  LL-Null:           </th> <td> -1889.2</td>\n",
       "</tr>\n",
       "<tr>\n",
       "  <th>Covariance Type:</th>     <td>nonrobust</td>    <th>  LLR p-value:       </th>  <td> 0.000</td> \n",
       "</tr>\n",
       "</table>\n",
       "<table class=\"simpletable\">\n",
       "<tr>\n",
       "      <td></td>         <th>coef</th>     <th>std err</th>      <th>z</th>      <th>P>|z|</th>  <th>[0.025</th>    <th>0.975]</th>  \n",
       "</tr>\n",
       "<tr>\n",
       "  <th>age</th>       <td>   -0.0677</td> <td>    0.012</td> <td>   -5.774</td> <td> 0.000</td> <td>   -0.091</td> <td>   -0.045</td>\n",
       "</tr>\n",
       "<tr>\n",
       "  <th>g</th>         <td>   -0.0717</td> <td>    0.025</td> <td>   -2.877</td> <td> 0.004</td> <td>   -0.121</td> <td>   -0.023</td>\n",
       "</tr>\n",
       "<tr>\n",
       "  <th>pts_per_g</th> <td>    0.5699</td> <td>    0.069</td> <td>    8.250</td> <td> 0.000</td> <td>    0.434</td> <td>    0.705</td>\n",
       "</tr>\n",
       "<tr>\n",
       "  <th>trb_per_g</th> <td>    0.3085</td> <td>    0.043</td> <td>    7.163</td> <td> 0.000</td> <td>    0.224</td> <td>    0.393</td>\n",
       "</tr>\n",
       "<tr>\n",
       "  <th>ast_per_g</th> <td>    0.3969</td> <td>    0.055</td> <td>    7.167</td> <td> 0.000</td> <td>    0.288</td> <td>    0.505</td>\n",
       "</tr>\n",
       "<tr>\n",
       "  <th>fg_per_g</th>  <td>    1.7306</td> <td>    1.670</td> <td>    1.036</td> <td> 0.300</td> <td>   -1.543</td> <td>    5.005</td>\n",
       "</tr>\n",
       "<tr>\n",
       "  <th>fg_pct</th>    <td>   15.0294</td> <td>   10.973</td> <td>    1.370</td> <td> 0.171</td> <td>   -6.477</td> <td>   36.536</td>\n",
       "</tr>\n",
       "<tr>\n",
       "  <th>efg_pct</th>   <td>  -26.1551</td> <td>   10.511</td> <td>   -2.488</td> <td> 0.013</td> <td>  -46.756</td> <td>   -5.555</td>\n",
       "</tr>\n",
       "<tr>\n",
       "  <th>blk_per_g</th> <td>    0.8886</td> <td>    0.154</td> <td>    5.755</td> <td> 0.000</td> <td>    0.586</td> <td>    1.191</td>\n",
       "</tr>\n",
       "<tr>\n",
       "  <th>tov_per_g</th> <td>   -0.3391</td> <td>    0.178</td> <td>   -1.904</td> <td> 0.057</td> <td>   -0.688</td> <td>    0.010</td>\n",
       "</tr>\n",
       "<tr>\n",
       "  <th>pf_per_g</th>  <td>   -0.8843</td> <td>    0.160</td> <td>   -5.540</td> <td> 0.000</td> <td>   -1.197</td> <td>   -0.571</td>\n",
       "</tr>\n",
       "<tr>\n",
       "  <th>mp</th>        <td>   -0.1289</td> <td>    0.026</td> <td>   -5.042</td> <td> 0.000</td> <td>   -0.179</td> <td>   -0.079</td>\n",
       "</tr>\n",
       "<tr>\n",
       "  <th>gs</th>        <td>    0.1066</td> <td>    0.024</td> <td>    4.507</td> <td> 0.000</td> <td>    0.060</td> <td>    0.153</td>\n",
       "</tr>\n",
       "<tr>\n",
       "  <th>fg3_per_g</th> <td>   -1.7582</td> <td>    1.693</td> <td>   -1.039</td> <td> 0.299</td> <td>   -5.076</td> <td>    1.560</td>\n",
       "</tr>\n",
       "<tr>\n",
       "  <th>fg2_per_g</th> <td>   -2.2294</td> <td>    1.681</td> <td>   -1.326</td> <td> 0.185</td> <td>   -5.525</td> <td>    1.066</td>\n",
       "</tr>\n",
       "<tr>\n",
       "  <th>stl_per_g</th> <td>   -0.1112</td> <td>    0.198</td> <td>   -0.561</td> <td> 0.575</td> <td>   -0.500</td> <td>    0.277</td>\n",
       "</tr>\n",
       "<tr>\n",
       "  <th>tm_srs</th>    <td>    0.2233</td> <td>    0.021</td> <td>   10.416</td> <td> 0.000</td> <td>    0.181</td> <td>    0.265</td>\n",
       "</tr>\n",
       "</table><br/><br/>Possibly complete quasi-separation: A fraction 0.45 of observations can be<br/>perfectly predicted. This might indicate that there is complete<br/>quasi-separation. In this case some parameters will not be identified."
      ],
      "text/plain": [
       "<class 'statsmodels.iolib.summary.Summary'>\n",
       "\"\"\"\n",
       "                           Logit Regression Results                           \n",
       "==============================================================================\n",
       "Dep. Variable:        all_star_player   No. Observations:                 9282\n",
       "Model:                          Logit   Df Residuals:                     9265\n",
       "Method:                           MLE   Df Model:                           16\n",
       "Date:                Tue, 14 Dec 2021   Pseudo R-squ.:                  0.6573\n",
       "Time:                        17:53:48   Log-Likelihood:                -647.45\n",
       "converged:                       True   LL-Null:                       -1889.2\n",
       "Covariance Type:            nonrobust   LLR p-value:                     0.000\n",
       "==============================================================================\n",
       "                 coef    std err          z      P>|z|      [0.025      0.975]\n",
       "------------------------------------------------------------------------------\n",
       "age           -0.0677      0.012     -5.774      0.000      -0.091      -0.045\n",
       "g             -0.0717      0.025     -2.877      0.004      -0.121      -0.023\n",
       "pts_per_g      0.5699      0.069      8.250      0.000       0.434       0.705\n",
       "trb_per_g      0.3085      0.043      7.163      0.000       0.224       0.393\n",
       "ast_per_g      0.3969      0.055      7.167      0.000       0.288       0.505\n",
       "fg_per_g       1.7306      1.670      1.036      0.300      -1.543       5.005\n",
       "fg_pct        15.0294     10.973      1.370      0.171      -6.477      36.536\n",
       "efg_pct      -26.1551     10.511     -2.488      0.013     -46.756      -5.555\n",
       "blk_per_g      0.8886      0.154      5.755      0.000       0.586       1.191\n",
       "tov_per_g     -0.3391      0.178     -1.904      0.057      -0.688       0.010\n",
       "pf_per_g      -0.8843      0.160     -5.540      0.000      -1.197      -0.571\n",
       "mp            -0.1289      0.026     -5.042      0.000      -0.179      -0.079\n",
       "gs             0.1066      0.024      4.507      0.000       0.060       0.153\n",
       "fg3_per_g     -1.7582      1.693     -1.039      0.299      -5.076       1.560\n",
       "fg2_per_g     -2.2294      1.681     -1.326      0.185      -5.525       1.066\n",
       "stl_per_g     -0.1112      0.198     -0.561      0.575      -0.500       0.277\n",
       "tm_srs         0.2233      0.021     10.416      0.000       0.181       0.265\n",
       "==============================================================================\n",
       "\n",
       "Possibly complete quasi-separation: A fraction 0.45 of observations can be\n",
       "perfectly predicted. This might indicate that there is complete\n",
       "quasi-separation. In this case some parameters will not be identified.\n",
       "\"\"\""
      ]
     },
     "execution_count": 82,
     "metadata": {},
     "output_type": "execute_result"
    }
   ],
   "source": [
    "import statsmodels.api as sm\n",
    "\n",
    "df_train = pd.read_csv(\"FINAL NBA All Star - train_mix.csv\")\n",
    "df_train.drop(columns = ['tm_abbrv','tm_year','name','pos','year','name-year','allstar_pos'], inplace=True)\n",
    "df_train.info()\n",
    "\n",
    "X_train = df_train.drop(columns = ['all_star_player','ft_per_g'])\n",
    "y_train = df_train['all_star_player']\n",
    "\n",
    "model = sm.Logit(y_train,X_train,data=df_train)\n",
    "logitModel = model.fit()\n",
    "logitModel.summary()"
   ]
  },
  {
   "cell_type": "code",
   "execution_count": 83,
   "metadata": {},
   "outputs": [
    {
     "name": "stdout",
     "output_type": "stream",
     "text": [
      "Optimization terminated successfully.\n",
      "         Current function value: 0.101527\n",
      "         Iterations 9\n"
     ]
    },
    {
     "data": {
      "text/html": [
       "<table class=\"simpletable\">\n",
       "<caption>Logit Regression Results</caption>\n",
       "<tr>\n",
       "  <th>Dep. Variable:</th>    <td>all_star_player</td> <th>  No. Observations:  </th>  <td>  9282</td> \n",
       "</tr>\n",
       "<tr>\n",
       "  <th>Model:</th>                 <td>Logit</td>      <th>  Df Residuals:      </th>  <td>  9276</td> \n",
       "</tr>\n",
       "<tr>\n",
       "  <th>Method:</th>                 <td>MLE</td>       <th>  Df Model:          </th>  <td>     5</td> \n",
       "</tr>\n",
       "<tr>\n",
       "  <th>Date:</th>            <td>Tue, 14 Dec 2021</td> <th>  Pseudo R-squ.:     </th>  <td>0.5012</td> \n",
       "</tr>\n",
       "<tr>\n",
       "  <th>Time:</th>                <td>17:53:53</td>     <th>  Log-Likelihood:    </th> <td> -942.37</td>\n",
       "</tr>\n",
       "<tr>\n",
       "  <th>converged:</th>             <td>True</td>       <th>  LL-Null:           </th> <td> -1889.2</td>\n",
       "</tr>\n",
       "<tr>\n",
       "  <th>Covariance Type:</th>     <td>nonrobust</td>    <th>  LLR p-value:       </th>  <td> 0.000</td> \n",
       "</tr>\n",
       "</table>\n",
       "<table class=\"simpletable\">\n",
       "<tr>\n",
       "      <td></td>         <th>coef</th>     <th>std err</th>      <th>z</th>      <th>P>|z|</th>  <th>[0.025</th>    <th>0.975]</th>  \n",
       "</tr>\n",
       "<tr>\n",
       "  <th>age</th>       <td>   -0.3212</td> <td>    0.010</td> <td>  -33.758</td> <td> 0.000</td> <td>   -0.340</td> <td>   -0.303</td>\n",
       "</tr>\n",
       "<tr>\n",
       "  <th>pts_per_g</th> <td>    0.2638</td> <td>    0.014</td> <td>   18.260</td> <td> 0.000</td> <td>    0.235</td> <td>    0.292</td>\n",
       "</tr>\n",
       "<tr>\n",
       "  <th>ast_per_g</th> <td>    0.2201</td> <td>    0.033</td> <td>    6.773</td> <td> 0.000</td> <td>    0.156</td> <td>    0.284</td>\n",
       "</tr>\n",
       "<tr>\n",
       "  <th>blk_per_g</th> <td>    0.7377</td> <td>    0.104</td> <td>    7.117</td> <td> 0.000</td> <td>    0.535</td> <td>    0.941</td>\n",
       "</tr>\n",
       "<tr>\n",
       "  <th>gs</th>        <td>    0.0097</td> <td>    0.003</td> <td>    3.149</td> <td> 0.002</td> <td>    0.004</td> <td>    0.016</td>\n",
       "</tr>\n",
       "<tr>\n",
       "  <th>tm_srs</th>    <td>    0.2467</td> <td>    0.017</td> <td>   14.847</td> <td> 0.000</td> <td>    0.214</td> <td>    0.279</td>\n",
       "</tr>\n",
       "</table>"
      ],
      "text/plain": [
       "<class 'statsmodels.iolib.summary.Summary'>\n",
       "\"\"\"\n",
       "                           Logit Regression Results                           \n",
       "==============================================================================\n",
       "Dep. Variable:        all_star_player   No. Observations:                 9282\n",
       "Model:                          Logit   Df Residuals:                     9276\n",
       "Method:                           MLE   Df Model:                            5\n",
       "Date:                Tue, 14 Dec 2021   Pseudo R-squ.:                  0.5012\n",
       "Time:                        17:53:53   Log-Likelihood:                -942.37\n",
       "converged:                       True   LL-Null:                       -1889.2\n",
       "Covariance Type:            nonrobust   LLR p-value:                     0.000\n",
       "==============================================================================\n",
       "                 coef    std err          z      P>|z|      [0.025      0.975]\n",
       "------------------------------------------------------------------------------\n",
       "age           -0.3212      0.010    -33.758      0.000      -0.340      -0.303\n",
       "pts_per_g      0.2638      0.014     18.260      0.000       0.235       0.292\n",
       "ast_per_g      0.2201      0.033      6.773      0.000       0.156       0.284\n",
       "blk_per_g      0.7377      0.104      7.117      0.000       0.535       0.941\n",
       "gs             0.0097      0.003      3.149      0.002       0.004       0.016\n",
       "tm_srs         0.2467      0.017     14.847      0.000       0.214       0.279\n",
       "==============================================================================\n",
       "\"\"\""
      ]
     },
     "execution_count": 83,
     "metadata": {},
     "output_type": "execute_result"
    }
   ],
   "source": [
    "# Remove other variables by creating a logit model and looking at P>|z| and VIF\n",
    "X_train = df_train.drop(columns = ['all_star_player','ft_per_g','g','fg_per_g','fg_pct','fg3_per_g','fg2_per_g','stl_per_g','tov_per_g','mp','efg_pct','trb_per_g','pf_per_g'])\n",
    "y_train = df_train['all_star_player']\n",
    "\n",
    "model = sm.Logit(y_train,X_train,data=df_train)\n",
    "logitModel = model.fit()\n",
    "logitModel.summary()"
   ]
  },
  {
   "cell_type": "code",
   "execution_count": 84,
   "metadata": {},
   "outputs": [
    {
     "data": {
      "text/html": [
       "<div>\n",
       "<style scoped>\n",
       "    .dataframe tbody tr th:only-of-type {\n",
       "        vertical-align: middle;\n",
       "    }\n",
       "\n",
       "    .dataframe tbody tr th {\n",
       "        vertical-align: top;\n",
       "    }\n",
       "\n",
       "    .dataframe thead th {\n",
       "        text-align: right;\n",
       "    }\n",
       "</style>\n",
       "<table border=\"1\" class=\"dataframe\">\n",
       "  <thead>\n",
       "    <tr style=\"text-align: right;\">\n",
       "      <th></th>\n",
       "      <th>variables</th>\n",
       "      <th>VIF</th>\n",
       "    </tr>\n",
       "  </thead>\n",
       "  <tbody>\n",
       "    <tr>\n",
       "      <th>0</th>\n",
       "      <td>age</td>\n",
       "      <td>3.184007</td>\n",
       "    </tr>\n",
       "    <tr>\n",
       "      <th>1</th>\n",
       "      <td>pts_per_g</td>\n",
       "      <td>8.220186</td>\n",
       "    </tr>\n",
       "    <tr>\n",
       "      <th>2</th>\n",
       "      <td>ast_per_g</td>\n",
       "      <td>4.158697</td>\n",
       "    </tr>\n",
       "    <tr>\n",
       "      <th>3</th>\n",
       "      <td>blk_per_g</td>\n",
       "      <td>2.395883</td>\n",
       "    </tr>\n",
       "    <tr>\n",
       "      <th>4</th>\n",
       "      <td>gs</td>\n",
       "      <td>4.514757</td>\n",
       "    </tr>\n",
       "    <tr>\n",
       "      <th>5</th>\n",
       "      <td>tm_srs</td>\n",
       "      <td>1.002269</td>\n",
       "    </tr>\n",
       "  </tbody>\n",
       "</table>\n",
       "</div>"
      ],
      "text/plain": [
       "   variables       VIF\n",
       "0        age  3.184007\n",
       "1  pts_per_g  8.220186\n",
       "2  ast_per_g  4.158697\n",
       "3  blk_per_g  2.395883\n",
       "4         gs  4.514757\n",
       "5     tm_srs  1.002269"
      ]
     },
     "execution_count": 84,
     "metadata": {},
     "output_type": "execute_result"
    }
   ],
   "source": [
    "# Check for VIF - MultiCollinearity\n",
    "from statsmodels.stats.outliers_influence import variance_inflation_factor\n",
    "\n",
    "pd.DataFrame({'variables':X_train.columns[0:], 'VIF':[variance_inflation_factor(X_train.values, i) for i in range(len(X_train.columns[0:]))]})\n"
   ]
  },
  {
   "cell_type": "code",
   "execution_count": 6,
   "metadata": {},
   "outputs": [],
   "source": [
    "#sns.pairplot(df_train.drop(columns = ['ft_per_g','g','fg_per_g','fg_pct','fg3_per_g','fg2_per_g','stl_per_g','tov_per_g','mp','efg_pct','trb_per_g','pf_per_g']))"
   ]
  },
  {
   "cell_type": "markdown",
   "metadata": {},
   "source": [
    "# SCIKIT LOGISTIC REGRESSION MODEL"
   ]
  },
  {
   "cell_type": "code",
   "execution_count": 85,
   "metadata": {},
   "outputs": [
    {
     "data": {
      "text/plain": [
       "0.9727429433311786"
      ]
     },
     "execution_count": 85,
     "metadata": {},
     "output_type": "execute_result"
    }
   ],
   "source": [
    "#Scale data & Baseline Model\n",
    "from sklearn.linear_model import LogisticRegression\n",
    "from sklearn.preprocessing import MinMaxScaler\n",
    "\n",
    "scaler = MinMaxScaler() \n",
    "scaled_values = scaler.fit_transform(df_train) \n",
    "\n",
    "df_train_scaled = df_train.copy()\n",
    "df_train_scaled.iloc[:] = scaled_values\n",
    "df_train_scaled\n",
    "\n",
    "X_train_scaled = df_train_scaled.drop(columns = ['all_star_player','ft_per_g','g','fg_per_g','fg_pct','fg3_per_g','fg2_per_g','stl_per_g','tov_per_g','mp','efg_pct','pf_per_g','trb_per_g'])\n",
    "y_train_scaled = df_train_scaled['all_star_player']\n",
    "\n",
    "# Baseline Model using Scikit Logistic Regression\n",
    "clf_LogitReg = LogisticRegression(random_state=0).fit(X_train_scaled, y_train_scaled)\n",
    "clf_LogitReg.score(X_train_scaled,y_train_scaled)\n",
    "\n",
    "#from sklearn.metrics import precision_score, recall_score, f1_score\n",
    "#score = clf_LogitReg.score(X_train_scaled,y_train_scaled)\n",
    "#y_pred = clf_LogitReg.predict(X_train_scaled)\n",
    "#print(\"Accuracy=\"+str(score))\n",
    "#print(f\"Precision:{precision_score(y_train_scaled, y_pred)}\") \n",
    "#print(f\"Recall:{recall_score(y_train_scaled, y_pred)}\") \n",
    "#print(f\"F1:{f1_score(y_train_scaled, y_pred)}\") "
   ]
  },
  {
   "cell_type": "code",
   "execution_count": 86,
   "metadata": {},
   "outputs": [
    {
     "name": "stdout",
     "output_type": "stream",
     "text": [
      "Logistic Regression Validation Metrics\n",
      "Accuracy:0.9639468690702088\n",
      "Precision:0.5757575757575758\n",
      "Recall:0.7916666666666666\n",
      "F1:0.6666666666666667\n",
      "[[ 2.08014594 10.31516098  2.87684496  3.78158091  3.09753564  3.86504497]] [-13.76518617]\n"
     ]
    }
   ],
   "source": [
    "# Get Baseline Model score using Validation data\n",
    "from sklearn.metrics import precision_score, recall_score, f1_score, roc_curve, auc\n",
    "\n",
    "df_validate = pd.read_csv(\"FINAL NBA All Star - validate_mix.csv\")\n",
    "df_validate.drop(columns = ['tm_abbrv','tm_year','name','pos','year','name-year','allstar_pos'], inplace=True)\n",
    "scaled_validate_values = scaler.fit_transform(df_validate) \n",
    "\n",
    "df_validate_scaled = df_validate.copy()\n",
    "df_validate_scaled.iloc[:] = scaled_validate_values\n",
    "\n",
    "X_validate = df_validate_scaled.drop(columns = ['all_star_player','ft_per_g','g','fg_per_g','fg_pct','fg3_per_g','fg2_per_g','stl_per_g','tov_per_g','mp','efg_pct','pf_per_g','trb_per_g'])\n",
    "y_validate = df_validate_scaled['all_star_player']\n",
    "\n",
    "y_pred = clf_LogitReg.predict(X_validate)\n",
    "score = clf_LogitReg.score(X_validate,y_validate)\n",
    "\n",
    "print(\"Logistic Regression Validation Metrics\")\n",
    "print(\"Accuracy:\"+str(score))\n",
    "print(f\"Precision:{precision_score(y_validate, y_pred)}\") \n",
    "print(f\"Recall:{recall_score(y_validate, y_pred)}\") \n",
    "print(f\"F1:{f1_score(y_validate, y_pred)}\") \n",
    "\n",
    "# Coefficients\n",
    "print(clf_LogitReg.coef_, clf_LogitReg.intercept_)"
   ]
  },
  {
   "cell_type": "code",
   "execution_count": 87,
   "metadata": {},
   "outputs": [
    {
     "name": "stdout",
     "output_type": "stream",
     "text": [
      "AUC Score: 0.9872432074221339\n"
     ]
    },
    {
     "data": {
      "image/png": "[encoded data removed]",
      "text/plain": [
       "<Figure size 720x720 with 1 Axes>"
      ]
     },
     "metadata": {},
     "output_type": "display_data"
    }
   ],
   "source": [
    "y_prob = clf_LogitReg.predict_proba(X_validate)\n",
    "y_prob = y_prob[:, 1]\n",
    "\n",
    "fpr, tpr, thresholds = roc_curve(y_validate, y_prob)\n",
    "print(f\"AUC Score: {auc(fpr, tpr)}\") \n",
    "plt.subplots(1, figsize=(10,10))\n",
    "plt.title('ROC - Logistic Regression (Baseline Model)')\n",
    "plt.plot(fpr, tpr)\n",
    "plt.plot([0, 1], ls=\"--\")\n",
    "plt.ylabel('True Positive Rate')\n",
    "plt.xlabel('False Positive Rate')\n",
    "plt.show()"
   ]
  },
  {
   "cell_type": "markdown",
   "metadata": {},
   "source": [
    "# RANDOM FOREST MODEL"
   ]
  },
  {
   "cell_type": "code",
   "execution_count": 10,
   "metadata": {},
   "outputs": [
    {
     "name": "stdout",
     "output_type": "stream",
     "text": [
      "Random Forest Validation Metrics\n",
      "Accuracy:0.9601518026565465\n",
      "Precision:0.5652173913043478\n",
      "Recall:0.5416666666666666\n",
      "F1:0.5531914893617021\n"
     ]
    }
   ],
   "source": [
    "#Create Random Forest Model\n",
    "from sklearn.ensemble import RandomForestClassifier\n",
    "\n",
    "#Create a Gaussian Classifier\n",
    "clf_RandomForest=RandomForestClassifier(n_estimators=100)\n",
    "\n",
    "X2_train = df_train.drop(columns = ['all_star_player','ft_per_g'])\n",
    "y2_train = df_train['all_star_player']\n",
    "X2_validate = df_validate.drop(columns = ['all_star_player','ft_per_g'])\n",
    "y2_validate = df_validate['all_star_player']\n",
    "\n",
    "\n",
    "#Train the model using the training sets y_pred=clf.predict(X_test)\n",
    "clf_RandomForest.fit(X2_train,y2_train)\n",
    "y2_pred=clf_RandomForest.predict(X2_validate)\n",
    "\n",
    "\n",
    "score2 = clf_RandomForest.score(X2_validate,y2_validate)\n",
    "print(\"Random Forest Validation Metrics\")\n",
    "print(\"Accuracy:\"+str(score2))\n",
    "print(f\"Precision:{precision_score(y2_validate, y2_pred)}\") \n",
    "print(f\"Recall:{recall_score(y2_validate, y2_pred)}\") \n",
    "print(f\"F1:{f1_score(y2_validate, y2_pred)}\") \n",
    "\n",
    "\n",
    "#confusion_matrix(y2_train, y2_pred)"
   ]
  },
  {
   "cell_type": "markdown",
   "metadata": {},
   "source": [
    "# SMOTE - Imbalance Data"
   ]
  },
  {
   "cell_type": "code",
   "execution_count": 12,
   "metadata": {},
   "outputs": [
    {
     "name": "stdout",
     "output_type": "stream",
     "text": [
      "Logistic Regression with Smote Validation Metrics\n",
      "Accuracy:0.9108159392789373\n",
      "Precision:0.3380281690140845\n",
      "Recall:1.0\n",
      "F1:0.5052631578947369\n"
     ]
    }
   ],
   "source": [
    "# SMOTE with Scaled Data - Logistic Regression\n",
    "from imblearn.over_sampling import SMOTE\n",
    "\n",
    "# Synthesize minority class datapoints using SMOTE\n",
    "sm = SMOTE(random_state=42, sampling_strategy='minority')\n",
    "smote_x_train, smote_y_train = sm.fit_resample(X_train_scaled, y_train_scaled)\n",
    "\n",
    "clf_LogitReg = LogisticRegression(random_state=0).fit(smote_x_train, smote_y_train)\n",
    "\n",
    "y_pred = clf_LogitReg.predict(X_validate)\n",
    "score = clf_LogitReg.score(X_validate,y_validate)\n",
    "\n",
    "print(\"Logistic Regression with Smote Validation Metrics\")\n",
    "print(\"Accuracy:\"+str(score))\n",
    "print(f\"Precision:{precision_score(y_validate, y_pred)}\") \n",
    "print(f\"Recall:{recall_score(y_validate, y_pred)}\") \n",
    "print(f\"F1:{f1_score(y_validate, y_pred)}\") "
   ]
  },
  {
   "cell_type": "code",
   "execution_count": 13,
   "metadata": {},
   "outputs": [
    {
     "name": "stdout",
     "output_type": "stream",
     "text": [
      "Random Forest with Smote Validation Metrics\n",
      "Accuracy:0.9639468690702088\n",
      "Precision:0.5641025641025641\n",
      "Recall:0.9166666666666666\n",
      "F1:0.6984126984126983\n"
     ]
    },
    {
     "data": {
      "text/plain": [
       "array([[486,  17],\n",
       "       [  2,  22]], dtype=int64)"
      ]
     },
     "execution_count": 13,
     "metadata": {},
     "output_type": "execute_result"
    }
   ],
   "source": [
    "# SMOTE with Random Forest\n",
    "from sklearn.metrics import confusion_matrix\n",
    "\n",
    "sm = SMOTE(random_state=42, sampling_strategy='minority')\n",
    "smote_x_train, smote_y_train = sm.fit_resample(X_train, y_train)\n",
    "\n",
    "clf_RandomForest2=RandomForestClassifier(n_estimators=100)\n",
    "clf_RandomForest2.fit(smote_x_train,smote_y_train)\n",
    "\n",
    "X3_validate = df_validate.drop(columns = ['all_star_player','ft_per_g','g','fg_per_g','fg_pct','fg3_per_g','fg2_per_g','stl_per_g','tov_per_g','mp','efg_pct','pf_per_g','trb_per_g'])\n",
    "y3_validate = df_validate['all_star_player']\n",
    "\n",
    "y_pred = clf_RandomForest2.predict(X3_validate)\n",
    "score = clf_RandomForest2.score(X3_validate,y3_validate)\n",
    "\n",
    "print(\"Random Forest with Smote Validation Metrics\")\n",
    "print(\"Accuracy:\"+str(score))\n",
    "print(f\"Precision:{precision_score(y3_validate, y_pred)}\") \n",
    "print(f\"Recall:{recall_score(y3_validate, y_pred)}\") \n",
    "print(f\"F1:{f1_score(y3_validate, y_pred)}\") \n",
    "\n",
    "confusion_matrix(y3_validate, y_pred)"
   ]
  },
  {
   "cell_type": "markdown",
   "metadata": {},
   "source": [
    "# GBM"
   ]
  },
  {
   "cell_type": "code",
   "execution_count": 14,
   "metadata": {},
   "outputs": [
    {
     "name": "stdout",
     "output_type": "stream",
     "text": [
      "GBM Metrics\n",
      "Accuracy:0.9449715370018975\n",
      "Precision:0.45098039215686275\n",
      "Recall:0.9583333333333334\n",
      "F1:0.6133333333333333\n"
     ]
    },
    {
     "data": {
      "text/plain": [
       "array([[475,  28],\n",
       "       [  1,  23]], dtype=int64)"
      ]
     },
     "execution_count": 14,
     "metadata": {},
     "output_type": "execute_result"
    }
   ],
   "source": [
    "# GBM\n",
    "from sklearn.ensemble import GradientBoostingClassifier\n",
    "model = GradientBoostingClassifier()\n",
    "# fit the model on the whole dataset\n",
    "gbm = GradientBoostingClassifier()\n",
    "gbm.fit(smote_x_train, smote_y_train)\n",
    "\n",
    "X4_validate = df_validate.drop(columns = ['all_star_player','ft_per_g','g','fg_per_g','fg_pct','fg3_per_g','fg2_per_g','stl_per_g','tov_per_g','mp','efg_pct','pf_per_g','trb_per_g'])\n",
    "y4_validate = df_validate['all_star_player']\n",
    "\n",
    "y_pred = gbm.predict(X4_validate)\n",
    "score = gbm.score(X4_validate,y4_validate)\n",
    "\n",
    "print(\"GBM Metrics\")\n",
    "print(\"Accuracy:\"+str(score))\n",
    "print(f\"Precision:{precision_score(y4_validate, y_pred)}\") \n",
    "print(f\"Recall:{recall_score(y4_validate, y_pred)}\") \n",
    "print(f\"F1:{f1_score(y4_validate, y_pred)}\") \n",
    "\n",
    "confusion_matrix(y4_validate, y_pred)"
   ]
  },
  {
   "cell_type": "code",
   "execution_count": 15,
   "metadata": {},
   "outputs": [
    {
     "name": "stdout",
     "output_type": "stream",
     "text": [
      "GBM Metrics with Outliers removed\n",
      "Accuracy:0.9449715370018975\n",
      "Precision:0.45098039215686275\n",
      "Recall:0.9583333333333334\n",
      "F1:0.6133333333333333\n"
     ]
    },
    {
     "data": {
      "text/plain": [
       "array([[475,  28],\n",
       "       [  1,  23]], dtype=int64)"
      ]
     },
     "execution_count": 15,
     "metadata": {},
     "output_type": "execute_result"
    }
   ],
   "source": [
    "# Remove Outliers - GBM\n",
    "dfo_train = pd.read_csv(\"FINAL NBA All Star - train_nooutliers.csv\")\n",
    "XO_train = dfo_train.drop(columns = ['all_star_player','ft_per_g','g','fg_per_g','fg_pct','fg3_per_g','fg2_per_g','stl_per_g','tov_per_g','mp','efg_pct','trb_per_g','pf_per_g'])\n",
    "XO_train.drop(columns = ['tm_abbrv','tm_year','name','pos','year','name-year','allstar_pos'], inplace=True)\n",
    "yo_train = dfo_train['all_star_player']\n",
    "\n",
    "sm = SMOTE(random_state=42, sampling_strategy='minority')\n",
    "smote_XO_train, smote_yo_train = sm.fit_resample(XO_train, yo_train)\n",
    "\n",
    "gbmO = GradientBoostingClassifier()\n",
    "gbmO.fit(smote_XO_train, smote_yo_train)\n",
    "\n",
    "yo_pred = gbmO.predict(X4_validate)\n",
    "score = gbmO.score(X4_validate,y4_validate)\n",
    "\n",
    "print(\"GBM Metrics with Outliers removed\")\n",
    "print(\"Accuracy:\"+str(score))\n",
    "print(f\"Precision:{precision_score(y4_validate, yo_pred)}\") \n",
    "print(f\"Recall:{recall_score(y4_validate, yo_pred)}\") \n",
    "print(f\"F1:{f1_score(y4_validate, yo_pred)}\") \n",
    "\n",
    "confusion_matrix(y4_validate, yo_pred)"
   ]
  },
  {
   "cell_type": "code",
   "execution_count": 21,
   "metadata": {},
   "outputs": [
    {
     "name": "stdout",
     "output_type": "stream",
     "text": [
      "Random Forest with Smote Validation Metrics\n",
      "Accuracy:0.9658444022770398\n",
      "Precision:0.5789473684210527\n",
      "Recall:0.9166666666666666\n",
      "F1:0.7096774193548387\n"
     ]
    },
    {
     "data": {
      "text/plain": [
       "array([[487,  16],\n",
       "       [  2,  22]], dtype=int64)"
      ]
     },
     "execution_count": 21,
     "metadata": {},
     "output_type": "execute_result"
    }
   ],
   "source": [
    "# Remove Outliers - Random Forest\n",
    "from sklearn.metrics import confusion_matrix\n",
    "\n",
    "clf_RandomForest3=RandomForestClassifier(n_estimators=100)\n",
    "clf_RandomForest3.fit(smote_XO_train,smote_yo_train)\n",
    "\n",
    "y_pred = clf_RandomForest3.predict(X4_validate)\n",
    "score = clf_RandomForest3.score(X4_validate,y4_validate)\n",
    "\n",
    "print(\"Random Forest with Smote Validation Metrics\")\n",
    "print(\"Accuracy:\"+str(score))\n",
    "print(f\"Precision:{precision_score(y4_validate, y_pred)}\") \n",
    "print(f\"Recall:{recall_score(y4_validate, y_pred)}\") \n",
    "print(f\"F1:{f1_score(y4_validate, y_pred)}\") \n",
    "\n",
    "confusion_matrix(y4_validate, y_pred)"
   ]
  },
  {
   "cell_type": "markdown",
   "metadata": {},
   "source": [
    "# XGB"
   ]
  },
  {
   "cell_type": "code",
   "execution_count": 20,
   "metadata": {},
   "outputs": [
    {
     "name": "stderr",
     "output_type": "stream",
     "text": [
      "C:\\Users\\medch\\Anaconda3\\envs\\metis\\lib\\site-packages\\xgboost\\sklearn.py:1146: UserWarning: The use of label encoder in XGBClassifier is deprecated and will be removed in a future release. To remove this warning, do the following: 1) Pass option use_label_encoder=False when constructing XGBClassifier object; and 2) Encode your labels (y) as integers starting with 0, i.e. 0, 1, 2, ..., [num_class - 1].\n",
      "  warnings.warn(label_encoder_deprecation_msg, UserWarning)\n"
     ]
    },
    {
     "name": "stdout",
     "output_type": "stream",
     "text": [
      "[20:35:17] WARNING: ..\\src\\learner.cc:1095: Starting in XGBoost 1.3.0, the default evaluation metric used with the objective 'binary:logistic' was changed from 'error' to 'logloss'. Explicitly set eval_metric if you'd like to restore the old behavior.\n",
      "Random Forest with Smote Validation Metrics\n",
      "Accuracy:0.9601518026565465\n",
      "Precision:0.5454545454545454\n",
      "Recall:0.75\n",
      "F1:0.631578947368421\n"
     ]
    },
    {
     "name": "stderr",
     "output_type": "stream",
     "text": [
      "C:\\Users\\medch\\Anaconda3\\envs\\metis\\lib\\site-packages\\xgboost\\data.py:112: UserWarning: Use subset (sliced data) of np.ndarray is not recommended because it will generate extra copies and increase memory consumption\n",
      "  warnings.warn(\n"
     ]
    },
    {
     "data": {
      "text/plain": [
       "array([[488,  15],\n",
       "       [  6,  18]], dtype=int64)"
      ]
     },
     "execution_count": 20,
     "metadata": {},
     "output_type": "execute_result"
    }
   ],
   "source": [
    "from xgboost import XGBClassifier\n",
    "\n",
    "clf_XGB = XGBClassifier()\n",
    "clf_XGB.fit(smote_XO_train,smote_yo_train)\n",
    "          \n",
    "y_pred = clf_XGB.predict(X4_validate)\n",
    "score = clf_XGB.score(X4_validate,y4_validate)\n",
    "\n",
    "print(\"XGBoost with Smote Validation Metrics\")\n",
    "print(\"Accuracy:\"+str(score))\n",
    "print(f\"Precision:{precision_score(y4_validate, y_pred)}\") \n",
    "print(f\"Recall:{recall_score(y4_validate, y_pred)}\") \n",
    "print(f\"F1:{f1_score(y4_validate, y_pred)}\") \n",
    "\n",
    "confusion_matrix(y4_validate, y_pred)"
   ]
  },
  {
   "cell_type": "markdown",
   "metadata": {},
   "source": [
    "# Join Validation and Training Data"
   ]
  },
  {
   "cell_type": "code",
   "execution_count": 42,
   "metadata": {},
   "outputs": [],
   "source": [
    "# Join Train and Validation Data\n",
    "df_final = pd.concat([df_train, df_validate])\n",
    "X_final = df_final.drop(columns = ['all_star_player','ft_per_g','g','fg_per_g','fg_pct','fg3_per_g','fg2_per_g','stl_per_g','tov_per_g','mp','efg_pct','trb_per_g','pf_per_g'])\n",
    "#X_final.drop(columns = ['tm_abbrv','tm_year','name','pos','year','name-year','allstar_pos'], inplace=True)\n",
    "y_final = df_final['all_star_player']"
   ]
  },
  {
   "cell_type": "code",
   "execution_count": 43,
   "metadata": {},
   "outputs": [
    {
     "data": {
      "text/plain": [
       "RandomForestClassifier()"
      ]
     },
     "execution_count": 43,
     "metadata": {},
     "output_type": "execute_result"
    }
   ],
   "source": [
    "\n",
    "clf_RandomForest3=RandomForestClassifier(n_estimators=100)\n",
    "clf_RandomForest3.fit(X_final,y_final)\n"
   ]
  },
  {
   "cell_type": "code",
   "execution_count": 44,
   "metadata": {},
   "outputs": [
    {
     "name": "stderr",
     "output_type": "stream",
     "text": [
      "C:\\Users\\medch\\Anaconda3\\envs\\metis\\lib\\site-packages\\xgboost\\sklearn.py:1146: UserWarning: The use of label encoder in XGBClassifier is deprecated and will be removed in a future release. To remove this warning, do the following: 1) Pass option use_label_encoder=False when constructing XGBClassifier object; and 2) Encode your labels (y) as integers starting with 0, i.e. 0, 1, 2, ..., [num_class - 1].\n",
      "  warnings.warn(label_encoder_deprecation_msg, UserWarning)\n"
     ]
    },
    {
     "name": "stdout",
     "output_type": "stream",
     "text": [
      "[21:26:16] WARNING: ..\\src\\learner.cc:1095: Starting in XGBoost 1.3.0, the default evaluation metric used with the objective 'binary:logistic' was changed from 'error' to 'logloss'. Explicitly set eval_metric if you'd like to restore the old behavior.\n"
     ]
    },
    {
     "data": {
      "text/plain": [
       "XGBClassifier(base_score=0.5, booster='gbtree', colsample_bylevel=1,\n",
       "              colsample_bynode=1, colsample_bytree=1, gamma=0, gpu_id=-1,\n",
       "              importance_type='gain', interaction_constraints='',\n",
       "              learning_rate=0.300000012, max_delta_step=0, max_depth=6,\n",
       "              min_child_weight=1, missing=nan, monotone_constraints='()',\n",
       "              n_estimators=100, n_jobs=8, num_parallel_tree=1, random_state=0,\n",
       "              reg_alpha=0, reg_lambda=1, scale_pos_weight=1, subsample=1,\n",
       "              tree_method='exact', validate_parameters=1, verbosity=None)"
      ]
     },
     "execution_count": 44,
     "metadata": {},
     "output_type": "execute_result"
    }
   ],
   "source": [
    "clf_XGB = XGBClassifier()\n",
    "clf_XGB.fit(X_final,y_final)"
   ]
  },
  {
   "cell_type": "markdown",
   "metadata": {},
   "source": [
    "# Test Final Model"
   ]
  },
  {
   "cell_type": "code",
   "execution_count": 47,
   "metadata": {},
   "outputs": [],
   "source": [
    "# Test data \n",
    "df_test = pd.read_csv(\"FINAL NBA All Star - test_mix.csv\")\n",
    "X_test = df_test.drop(columns = ['all_star_player','ft_per_g','g','fg_per_g','fg_pct','fg3_per_g','fg2_per_g','stl_per_g','tov_per_g','mp','efg_pct','trb_per_g','pf_per_g'])\n",
    "X_test.drop(columns = ['tm_abbrv','tm_year','name','pos','year','name-year','allstar_pos'], inplace=True)\n",
    "y_test = df_test['all_star_player']\n",
    "\n"
   ]
  },
  {
   "cell_type": "code",
   "execution_count": 48,
   "metadata": {},
   "outputs": [
    {
     "name": "stdout",
     "output_type": "stream",
     "text": [
      "XGB with SMOTE Test Metrics\n",
      "Accuracy:0.9721706864564007\n",
      "Precision:0.64\n",
      "Recall:0.7272727272727273\n",
      "F1:0.6808510638297872\n"
     ]
    },
    {
     "name": "stderr",
     "output_type": "stream",
     "text": [
      "C:\\Users\\medch\\Anaconda3\\envs\\metis\\lib\\site-packages\\xgboost\\data.py:112: UserWarning: Use subset (sliced data) of np.ndarray is not recommended because it will generate extra copies and increase memory consumption\n",
      "  warnings.warn(\n"
     ]
    },
    {
     "data": {
      "text/plain": [
       "array([[508,   9],\n",
       "       [  6,  16]], dtype=int64)"
      ]
     },
     "execution_count": 48,
     "metadata": {},
     "output_type": "execute_result"
    }
   ],
   "source": [
    "y_pred = clf_XGB.predict(X_test)\n",
    "score = clf_XGB.score(X_test,y_test)\n",
    "\n",
    "print(\"XGB with SMOTE Test Metrics\")\n",
    "print(\"Accuracy:\"+str(score))\n",
    "print(f\"Precision:{precision_score(y_test, y_pred)}\") \n",
    "print(f\"Recall:{recall_score(y_test, y_pred)}\") \n",
    "print(f\"F1:{f1_score(y_test, y_pred)}\") \n",
    "\n",
    "confusion_matrix(y_test, y_pred)"
   ]
  },
  {
   "cell_type": "code",
   "execution_count": 49,
   "metadata": {},
   "outputs": [
    {
     "name": "stdout",
     "output_type": "stream",
     "text": [
      "Random Forest with SMOTE Test Metrics\n",
      "Accuracy:0.9851576994434137\n",
      "Precision:0.8181818181818182\n",
      "Recall:0.8181818181818182\n",
      "F1:0.8181818181818182\n"
     ]
    },
    {
     "data": {
      "text/plain": [
       "array([[513,   4],\n",
       "       [  4,  18]], dtype=int64)"
      ]
     },
     "execution_count": 49,
     "metadata": {},
     "output_type": "execute_result"
    }
   ],
   "source": [
    "# Random Forest\n",
    "y_pred = clf_RandomForest3.predict(X_test)\n",
    "score = clf_RandomForest3.score(X_test,y_test)\n",
    "\n",
    "print(\"Random Forest with SMOTE Test Metrics\")\n",
    "print(\"Accuracy:\"+str(score))\n",
    "print(f\"Precision:{precision_score(y_test, y_pred)}\") \n",
    "print(f\"Recall:{recall_score(y_test, y_pred)}\") \n",
    "print(f\"F1:{f1_score(y_test, y_pred)}\") \n",
    "\n",
    "confusion_matrix(y_test, y_pred)"
   ]
  },
  {
   "cell_type": "code",
   "execution_count": 72,
   "metadata": {},
   "outputs": [
    {
     "data": {
      "image/png": "[encoded data removed]",
      "text/plain": [
       "<Figure size 432x288 with 2 Axes>"
      ]
     },
     "metadata": {},
     "output_type": "display_data"
    }
   ],
   "source": [
    "from sklearn.metrics import plot_confusion_matrix\n",
    "\n",
    "plot_confusion_matrix(clf_RandomForest3, X_test, y_test, cmap=plt.cm.gist_earth)\n",
    "plt.grid(False)\n",
    "plt.show()"
   ]
  },
  {
   "cell_type": "code",
   "execution_count": 74,
   "metadata": {},
   "outputs": [
    {
     "data": {
      "image/png": "[encoded data removed]",
      "text/plain": [
       "<Figure size 720x720 with 1 Axes>"
      ]
     },
     "metadata": {},
     "output_type": "display_data"
    }
   ],
   "source": [
    "y_proba = clf_RandomForest3.predict_proba(X=X_test)\n",
    "y_proba = y_proba[:, 1]\n",
    "\n",
    "fpr, tpr, thresholds = roc_curve(y_test, y_proba)\n",
    "plt.subplots(1, figsize=(10,10))\n",
    "plt.title(f\"ROC Curve - Random Forest Model; AUC Score: {auc(fpr, tpr)}\")\n",
    "sns.set()\n",
    "plt.plot(fpr, tpr)\n",
    "plt.plot(fpr, fpr, linestyle = '--', color = 'k')\n",
    "plt.grid(False)\n",
    "#plt.plot([0, 1], ls=\"--\")\n",
    "plt.ylabel('True Positive Rate')\n",
    "plt.xlabel('False Positive Rate')\n",
    "plt.show()"
   ]
  },
  {
   "cell_type": "code",
   "execution_count": 75,
   "metadata": {},
   "outputs": [
    {
     "data": {
      "text/html": [
       "<div>\n",
       "<style scoped>\n",
       "    .dataframe tbody tr th:only-of-type {\n",
       "        vertical-align: middle;\n",
       "    }\n",
       "\n",
       "    .dataframe tbody tr th {\n",
       "        vertical-align: top;\n",
       "    }\n",
       "\n",
       "    .dataframe thead th {\n",
       "        text-align: right;\n",
       "    }\n",
       "</style>\n",
       "<table border=\"1\" class=\"dataframe\">\n",
       "  <thead>\n",
       "    <tr style=\"text-align: right;\">\n",
       "      <th></th>\n",
       "      <th>Variable</th>\n",
       "      <th>Importance</th>\n",
       "    </tr>\n",
       "  </thead>\n",
       "  <tbody>\n",
       "    <tr>\n",
       "      <th>1</th>\n",
       "      <td>pts_per_g</td>\n",
       "      <td>0.421812</td>\n",
       "    </tr>\n",
       "    <tr>\n",
       "      <th>4</th>\n",
       "      <td>gs</td>\n",
       "      <td>0.147859</td>\n",
       "    </tr>\n",
       "    <tr>\n",
       "      <th>2</th>\n",
       "      <td>ast_per_g</td>\n",
       "      <td>0.141913</td>\n",
       "    </tr>\n",
       "    <tr>\n",
       "      <th>5</th>\n",
       "      <td>tm_srs</td>\n",
       "      <td>0.132245</td>\n",
       "    </tr>\n",
       "    <tr>\n",
       "      <th>3</th>\n",
       "      <td>blk_per_g</td>\n",
       "      <td>0.093305</td>\n",
       "    </tr>\n",
       "    <tr>\n",
       "      <th>0</th>\n",
       "      <td>age</td>\n",
       "      <td>0.062866</td>\n",
       "    </tr>\n",
       "  </tbody>\n",
       "</table>\n",
       "</div>"
      ],
      "text/plain": [
       "    Variable  Importance\n",
       "1  pts_per_g    0.421812\n",
       "4         gs    0.147859\n",
       "2  ast_per_g    0.141913\n",
       "5     tm_srs    0.132245\n",
       "3  blk_per_g    0.093305\n",
       "0        age    0.062866"
      ]
     },
     "execution_count": 75,
     "metadata": {},
     "output_type": "execute_result"
    }
   ],
   "source": [
    "pd.DataFrame({'Variable':X_test.columns,\n",
    "              'Importance':clf_RandomForest3.feature_importances_}).sort_values('Importance', ascending=False)\n"
   ]
  },
  {
   "cell_type": "code",
   "execution_count": 77,
   "metadata": {},
   "outputs": [
    {
     "data": {
      "text/plain": [
       "array([0], dtype=int64)"
      ]
     },
     "execution_count": 77,
     "metadata": {},
     "output_type": "execute_result"
    }
   ],
   "source": [
    "# ShahONeal 2007\n",
    "clf_RandomForest3.predict([[17.3,39,2,-1.21,1.4,34]])"
   ]
  },
  {
   "cell_type": "code",
   "execution_count": 78,
   "metadata": {},
   "outputs": [
    {
     "data": {
      "text/plain": [
       "array([0], dtype=int64)"
      ]
     },
     "execution_count": 78,
     "metadata": {},
     "output_type": "execute_result"
    }
   ],
   "source": [
    "# ShahONeal 2001\n",
    "clf_RandomForest3.predict([[28.7,74,3.7,3.74,2.8,28]])"
   ]
  },
  {
   "cell_type": "code",
   "execution_count": 79,
   "metadata": {},
   "outputs": [
    {
     "data": {
      "text/plain": [
       "array([0], dtype=int64)"
      ]
     },
     "execution_count": 79,
     "metadata": {},
     "output_type": "execute_result"
    }
   ],
   "source": [
    "# ShahONeal 2000\n",
    "clf_RandomForest3.predict([[29.7,79,3.8,8.41,3,27]])"
   ]
  },
  {
   "cell_type": "code",
   "execution_count": null,
   "metadata": {},
   "outputs": [],
   "source": []
  }
 ],
 "metadata": {
  "kernelspec": {
   "display_name": "Python [conda env:metis] *",
   "language": "python",
   "name": "conda-env-metis-py"
  },
  "language_info": {
   "codemirror_mode": {
    "name": "ipython",
    "version": 3
   },
   "file_extension": ".py",
   "mimetype": "text/x-python",
   "name": "python",
   "nbconvert_exporter": "python",
   "pygments_lexer": "ipython3",
   "version": "3.8.10"
  }
 },
 "nbformat": 4,
 "nbformat_minor": 4
}
